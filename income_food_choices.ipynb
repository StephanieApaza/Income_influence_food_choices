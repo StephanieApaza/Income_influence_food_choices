{
 "cells": [
  {
   "cell_type": "markdown",
   "id": "6c7cb3f8",
   "metadata": {},
   "source": [
    "### Validation and cleaning of data"
   ]
  },
  {
   "cell_type": "code",
   "execution_count": 1,
   "id": "6fe74576",
   "metadata": {},
   "outputs": [],
   "source": [
    "import pandas as pd\n",
    "import numpy as np\n",
    "import matplotlib.pyplot as plt\n",
    "import seaborn as sns"
   ]
  },
  {
   "cell_type": "code",
   "execution_count": 79,
   "id": "0d9fbc03",
   "metadata": {},
   "outputs": [],
   "source": [
    "sns.set_style('darkgrid')\n",
    "colors = ['#1565c0', '#862C92', '#00BCD4', '#2196f3','#64b5f6', '#bbdefb', '#004173']\n",
    "sns.set_palette(colors)"
   ]
  },
  {
   "cell_type": "code",
   "execution_count": 3,
   "id": "d37af99d",
   "metadata": {},
   "outputs": [],
   "source": [
    "income_expenditure_df = pd.read_csv('Income-Expenditure.csv')\n",
    "dietary_habits_df = pd.read_csv('Dietary Habits Survey Data.csv')\n",
    "food_description_df = pd.read_csv('Food_Prices_Dimension_Table.csv')\n",
    "food_prices_df = pd.read_csv('Food Prices.csv')"
   ]
  },
  {
   "cell_type": "markdown",
   "id": "dd07771f",
   "metadata": {},
   "source": [
    "#### Income and expenditure dataframe"
   ]
  },
  {
   "cell_type": "code",
   "execution_count": 81,
   "id": "8f1ea7f4",
   "metadata": {},
   "outputs": [
    {
     "data": {
      "text/html": [
       "<div>\n",
       "<style scoped>\n",
       "    .dataframe tbody tr th:only-of-type {\n",
       "        vertical-align: middle;\n",
       "    }\n",
       "\n",
       "    .dataframe tbody tr th {\n",
       "        vertical-align: top;\n",
       "    }\n",
       "\n",
       "    .dataframe thead th {\n",
       "        text-align: right;\n",
       "    }\n",
       "</style>\n",
       "<table border=\"1\" class=\"dataframe\">\n",
       "  <thead>\n",
       "    <tr style=\"text-align: right;\">\n",
       "      <th></th>\n",
       "      <th>Mthly_HH_Income</th>\n",
       "      <th>Mthly_HH_Expense</th>\n",
       "      <th>No_of_Fly_Members</th>\n",
       "      <th>Emi_or_Rent_Amt</th>\n",
       "      <th>Annual_HH_Income</th>\n",
       "      <th>Highest_Qualified_Member</th>\n",
       "      <th>No_of_Earning_Members</th>\n",
       "    </tr>\n",
       "  </thead>\n",
       "  <tbody>\n",
       "    <tr>\n",
       "      <th>0</th>\n",
       "      <td>5000</td>\n",
       "      <td>8000</td>\n",
       "      <td>3</td>\n",
       "      <td>2000</td>\n",
       "      <td>64200</td>\n",
       "      <td>Under-Graduate</td>\n",
       "      <td>1</td>\n",
       "    </tr>\n",
       "    <tr>\n",
       "      <th>1</th>\n",
       "      <td>6000</td>\n",
       "      <td>7000</td>\n",
       "      <td>2</td>\n",
       "      <td>3000</td>\n",
       "      <td>79920</td>\n",
       "      <td>Illiterate</td>\n",
       "      <td>1</td>\n",
       "    </tr>\n",
       "    <tr>\n",
       "      <th>2</th>\n",
       "      <td>10000</td>\n",
       "      <td>4500</td>\n",
       "      <td>2</td>\n",
       "      <td>0</td>\n",
       "      <td>112800</td>\n",
       "      <td>Under-Graduate</td>\n",
       "      <td>1</td>\n",
       "    </tr>\n",
       "    <tr>\n",
       "      <th>3</th>\n",
       "      <td>10000</td>\n",
       "      <td>2000</td>\n",
       "      <td>1</td>\n",
       "      <td>0</td>\n",
       "      <td>97200</td>\n",
       "      <td>Illiterate</td>\n",
       "      <td>1</td>\n",
       "    </tr>\n",
       "    <tr>\n",
       "      <th>4</th>\n",
       "      <td>12500</td>\n",
       "      <td>12000</td>\n",
       "      <td>2</td>\n",
       "      <td>3000</td>\n",
       "      <td>147000</td>\n",
       "      <td>Graduate</td>\n",
       "      <td>1</td>\n",
       "    </tr>\n",
       "    <tr>\n",
       "      <th>5</th>\n",
       "      <td>14000</td>\n",
       "      <td>8000</td>\n",
       "      <td>2</td>\n",
       "      <td>0</td>\n",
       "      <td>196560</td>\n",
       "      <td>Graduate</td>\n",
       "      <td>1</td>\n",
       "    </tr>\n",
       "    <tr>\n",
       "      <th>6</th>\n",
       "      <td>15000</td>\n",
       "      <td>16000</td>\n",
       "      <td>3</td>\n",
       "      <td>35000</td>\n",
       "      <td>167400</td>\n",
       "      <td>Post-Graduate</td>\n",
       "      <td>1</td>\n",
       "    </tr>\n",
       "    <tr>\n",
       "      <th>7</th>\n",
       "      <td>18000</td>\n",
       "      <td>20000</td>\n",
       "      <td>5</td>\n",
       "      <td>8000</td>\n",
       "      <td>216000</td>\n",
       "      <td>Graduate</td>\n",
       "      <td>1</td>\n",
       "    </tr>\n",
       "    <tr>\n",
       "      <th>8</th>\n",
       "      <td>19000</td>\n",
       "      <td>9000</td>\n",
       "      <td>2</td>\n",
       "      <td>0</td>\n",
       "      <td>218880</td>\n",
       "      <td>Under-Graduate</td>\n",
       "      <td>1</td>\n",
       "    </tr>\n",
       "    <tr>\n",
       "      <th>9</th>\n",
       "      <td>20000</td>\n",
       "      <td>9000</td>\n",
       "      <td>4</td>\n",
       "      <td>0</td>\n",
       "      <td>220800</td>\n",
       "      <td>Under-Graduate</td>\n",
       "      <td>2</td>\n",
       "    </tr>\n",
       "  </tbody>\n",
       "</table>\n",
       "</div>"
      ],
      "text/plain": [
       "   Mthly_HH_Income  Mthly_HH_Expense  No_of_Fly_Members  Emi_or_Rent_Amt  \\\n",
       "0             5000              8000                  3             2000   \n",
       "1             6000              7000                  2             3000   \n",
       "2            10000              4500                  2                0   \n",
       "3            10000              2000                  1                0   \n",
       "4            12500             12000                  2             3000   \n",
       "5            14000              8000                  2                0   \n",
       "6            15000             16000                  3            35000   \n",
       "7            18000             20000                  5             8000   \n",
       "8            19000              9000                  2                0   \n",
       "9            20000              9000                  4                0   \n",
       "\n",
       "   Annual_HH_Income Highest_Qualified_Member  No_of_Earning_Members  \n",
       "0             64200           Under-Graduate                      1  \n",
       "1             79920               Illiterate                      1  \n",
       "2            112800           Under-Graduate                      1  \n",
       "3             97200               Illiterate                      1  \n",
       "4            147000                 Graduate                      1  \n",
       "5            196560                 Graduate                      1  \n",
       "6            167400            Post-Graduate                      1  \n",
       "7            216000                 Graduate                      1  \n",
       "8            218880           Under-Graduate                      1  \n",
       "9            220800           Under-Graduate                      2  "
      ]
     },
     "execution_count": 81,
     "metadata": {},
     "output_type": "execute_result"
    }
   ],
   "source": [
    "income_expenditure_df.head(10)"
   ]
  },
  {
   "cell_type": "code",
   "execution_count": 5,
   "id": "db0f6a1e",
   "metadata": {},
   "outputs": [
    {
     "data": {
      "text/plain": [
       "(50, 7)"
      ]
     },
     "execution_count": 5,
     "metadata": {},
     "output_type": "execute_result"
    }
   ],
   "source": [
    "income_expenditure_df.shape"
   ]
  },
  {
   "cell_type": "code",
   "execution_count": 6,
   "id": "d1dfaa54",
   "metadata": {},
   "outputs": [
    {
     "data": {
      "text/plain": [
       "Mthly_HH_Income              int64\n",
       "Mthly_HH_Expense             int64\n",
       "No_of_Fly_Members            int64\n",
       "Emi_or_Rent_Amt              int64\n",
       "Annual_HH_Income             int64\n",
       "Highest_Qualified_Member    object\n",
       "No_of_Earning_Members        int64\n",
       "dtype: object"
      ]
     },
     "execution_count": 6,
     "metadata": {},
     "output_type": "execute_result"
    }
   ],
   "source": [
    "income_expenditure_df.dtypes"
   ]
  },
  {
   "cell_type": "code",
   "execution_count": 7,
   "id": "9b2d9887",
   "metadata": {},
   "outputs": [
    {
     "data": {
      "text/html": [
       "<div>\n",
       "<style scoped>\n",
       "    .dataframe tbody tr th:only-of-type {\n",
       "        vertical-align: middle;\n",
       "    }\n",
       "\n",
       "    .dataframe tbody tr th {\n",
       "        vertical-align: top;\n",
       "    }\n",
       "\n",
       "    .dataframe thead th {\n",
       "        text-align: right;\n",
       "    }\n",
       "</style>\n",
       "<table border=\"1\" class=\"dataframe\">\n",
       "  <thead>\n",
       "    <tr style=\"text-align: right;\">\n",
       "      <th></th>\n",
       "      <th>Mthly_HH_Income</th>\n",
       "      <th>Mthly_HH_Expense</th>\n",
       "      <th>No_of_Fly_Members</th>\n",
       "      <th>Emi_or_Rent_Amt</th>\n",
       "      <th>Annual_HH_Income</th>\n",
       "      <th>No_of_Earning_Members</th>\n",
       "    </tr>\n",
       "  </thead>\n",
       "  <tbody>\n",
       "    <tr>\n",
       "      <th>count</th>\n",
       "      <td>50.000000</td>\n",
       "      <td>50.000000</td>\n",
       "      <td>50.000000</td>\n",
       "      <td>50.000000</td>\n",
       "      <td>5.000000e+01</td>\n",
       "      <td>50.000000</td>\n",
       "    </tr>\n",
       "    <tr>\n",
       "      <th>mean</th>\n",
       "      <td>41558.000000</td>\n",
       "      <td>18818.000000</td>\n",
       "      <td>4.060000</td>\n",
       "      <td>3060.000000</td>\n",
       "      <td>4.900190e+05</td>\n",
       "      <td>1.460000</td>\n",
       "    </tr>\n",
       "    <tr>\n",
       "      <th>std</th>\n",
       "      <td>26097.908979</td>\n",
       "      <td>12090.216824</td>\n",
       "      <td>1.517382</td>\n",
       "      <td>6241.434948</td>\n",
       "      <td>3.201358e+05</td>\n",
       "      <td>0.734291</td>\n",
       "    </tr>\n",
       "    <tr>\n",
       "      <th>min</th>\n",
       "      <td>5000.000000</td>\n",
       "      <td>2000.000000</td>\n",
       "      <td>1.000000</td>\n",
       "      <td>0.000000</td>\n",
       "      <td>6.420000e+04</td>\n",
       "      <td>1.000000</td>\n",
       "    </tr>\n",
       "    <tr>\n",
       "      <th>25%</th>\n",
       "      <td>23550.000000</td>\n",
       "      <td>10000.000000</td>\n",
       "      <td>3.000000</td>\n",
       "      <td>0.000000</td>\n",
       "      <td>2.587500e+05</td>\n",
       "      <td>1.000000</td>\n",
       "    </tr>\n",
       "    <tr>\n",
       "      <th>50%</th>\n",
       "      <td>35000.000000</td>\n",
       "      <td>15500.000000</td>\n",
       "      <td>4.000000</td>\n",
       "      <td>0.000000</td>\n",
       "      <td>4.474200e+05</td>\n",
       "      <td>1.000000</td>\n",
       "    </tr>\n",
       "    <tr>\n",
       "      <th>75%</th>\n",
       "      <td>50375.000000</td>\n",
       "      <td>25000.000000</td>\n",
       "      <td>5.000000</td>\n",
       "      <td>3500.000000</td>\n",
       "      <td>5.947200e+05</td>\n",
       "      <td>2.000000</td>\n",
       "    </tr>\n",
       "    <tr>\n",
       "      <th>max</th>\n",
       "      <td>100000.000000</td>\n",
       "      <td>50000.000000</td>\n",
       "      <td>7.000000</td>\n",
       "      <td>35000.000000</td>\n",
       "      <td>1.404000e+06</td>\n",
       "      <td>4.000000</td>\n",
       "    </tr>\n",
       "  </tbody>\n",
       "</table>\n",
       "</div>"
      ],
      "text/plain": [
       "       Mthly_HH_Income  Mthly_HH_Expense  No_of_Fly_Members  Emi_or_Rent_Amt  \\\n",
       "count        50.000000         50.000000          50.000000        50.000000   \n",
       "mean      41558.000000      18818.000000           4.060000      3060.000000   \n",
       "std       26097.908979      12090.216824           1.517382      6241.434948   \n",
       "min        5000.000000       2000.000000           1.000000         0.000000   \n",
       "25%       23550.000000      10000.000000           3.000000         0.000000   \n",
       "50%       35000.000000      15500.000000           4.000000         0.000000   \n",
       "75%       50375.000000      25000.000000           5.000000      3500.000000   \n",
       "max      100000.000000      50000.000000           7.000000     35000.000000   \n",
       "\n",
       "       Annual_HH_Income  No_of_Earning_Members  \n",
       "count      5.000000e+01              50.000000  \n",
       "mean       4.900190e+05               1.460000  \n",
       "std        3.201358e+05               0.734291  \n",
       "min        6.420000e+04               1.000000  \n",
       "25%        2.587500e+05               1.000000  \n",
       "50%        4.474200e+05               1.000000  \n",
       "75%        5.947200e+05               2.000000  \n",
       "max        1.404000e+06               4.000000  "
      ]
     },
     "execution_count": 7,
     "metadata": {},
     "output_type": "execute_result"
    }
   ],
   "source": [
    "income_expenditure_df.describe()"
   ]
  },
  {
   "cell_type": "code",
   "execution_count": 8,
   "id": "48a2bbca",
   "metadata": {},
   "outputs": [
    {
     "name": "stdout",
     "output_type": "stream",
     "text": [
      "<class 'pandas.core.frame.DataFrame'>\n",
      "RangeIndex: 50 entries, 0 to 49\n",
      "Data columns (total 7 columns):\n",
      " #   Column                    Non-Null Count  Dtype \n",
      "---  ------                    --------------  ----- \n",
      " 0   Mthly_HH_Income           50 non-null     int64 \n",
      " 1   Mthly_HH_Expense          50 non-null     int64 \n",
      " 2   No_of_Fly_Members         50 non-null     int64 \n",
      " 3   Emi_or_Rent_Amt           50 non-null     int64 \n",
      " 4   Annual_HH_Income          50 non-null     int64 \n",
      " 5   Highest_Qualified_Member  50 non-null     object\n",
      " 6   No_of_Earning_Members     50 non-null     int64 \n",
      "dtypes: int64(6), object(1)\n",
      "memory usage: 2.9+ KB\n"
     ]
    }
   ],
   "source": [
    "income_expenditure_df.info()"
   ]
  },
  {
   "cell_type": "code",
   "execution_count": 9,
   "id": "beb0d52a",
   "metadata": {},
   "outputs": [
    {
     "data": {
      "text/plain": [
       "Mthly_HH_Income             0\n",
       "Mthly_HH_Expense            0\n",
       "No_of_Fly_Members           0\n",
       "Emi_or_Rent_Amt             0\n",
       "Annual_HH_Income            0\n",
       "Highest_Qualified_Member    0\n",
       "No_of_Earning_Members       0\n",
       "dtype: int64"
      ]
     },
     "execution_count": 9,
     "metadata": {},
     "output_type": "execute_result"
    }
   ],
   "source": [
    "income_expenditure_df.isna().sum()"
   ]
  },
  {
   "cell_type": "markdown",
   "id": "377cf314",
   "metadata": {},
   "source": [
    "#### Dietary habits dataframe"
   ]
  },
  {
   "cell_type": "code",
   "execution_count": 82,
   "id": "29717b28",
   "metadata": {},
   "outputs": [
    {
     "data": {
      "text/html": [
       "<div>\n",
       "<style scoped>\n",
       "    .dataframe tbody tr th:only-of-type {\n",
       "        vertical-align: middle;\n",
       "    }\n",
       "\n",
       "    .dataframe tbody tr th {\n",
       "        vertical-align: top;\n",
       "    }\n",
       "\n",
       "    .dataframe thead th {\n",
       "        text-align: right;\n",
       "    }\n",
       "</style>\n",
       "<table border=\"1\" class=\"dataframe\">\n",
       "  <thead>\n",
       "    <tr style=\"text-align: right;\">\n",
       "      <th></th>\n",
       "      <th>Age</th>\n",
       "      <th>Gender</th>\n",
       "      <th>How many meals do you have a day? (number of regular occasions in a day when a significant and reasonably filling amount of food is eaten)</th>\n",
       "      <th>What would best describe your diet:</th>\n",
       "      <th>Choose all that apply: [I skip meals]</th>\n",
       "      <th>Choose all that apply: [I experience feelings of hunger during the day]</th>\n",
       "      <th>Choose all that apply: [I consult a nutritionist/dietician]</th>\n",
       "      <th>Choose all that apply: [I cook my own meals]</th>\n",
       "      <th>What would you consider to be the main meal of YOUR day?</th>\n",
       "      <th>What does your diet mostly consist of and how is it prepared?</th>\n",
       "      <th>...</th>\n",
       "      <th>What is your weekly food intake frequency of the following food categories: [Meat]</th>\n",
       "      <th>What is your weekly food intake frequency of the following food categories: [Seafood ]</th>\n",
       "      <th>How frequently do you consume these beverages [Tea]</th>\n",
       "      <th>How frequently do you consume these beverages [Coffee]</th>\n",
       "      <th>How frequently do you consume these beverages [Aerated (Soft) Drinks]</th>\n",
       "      <th>How frequently do you consume these beverages [Fruit Juices (Fresh/Packaged)]</th>\n",
       "      <th>How frequently do you consume these beverages [Dairy Beverages (Milk, Milkshakes, Smoothies, Buttermilk, etc)]</th>\n",
       "      <th>How frequently do you consume these beverages [Alcoholic Beverages]</th>\n",
       "      <th>What is your water consumption like (in a day, 1 cup=250ml approx)</th>\n",
       "      <th></th>\n",
       "    </tr>\n",
       "  </thead>\n",
       "  <tbody>\n",
       "    <tr>\n",
       "      <th>0</th>\n",
       "      <td>18-24</td>\n",
       "      <td>Male</td>\n",
       "      <td>5</td>\n",
       "      <td>Pollotarian (Vegetarian who consumes poultry a...</td>\n",
       "      <td>Rarely</td>\n",
       "      <td>Often</td>\n",
       "      <td>Never</td>\n",
       "      <td>Sometimes</td>\n",
       "      <td>Lunch</td>\n",
       "      <td>Freshly home-cooked produce</td>\n",
       "      <td>...</td>\n",
       "      <td>Often</td>\n",
       "      <td>Often</td>\n",
       "      <td>Never</td>\n",
       "      <td>Never</td>\n",
       "      <td>Less often</td>\n",
       "      <td>Never</td>\n",
       "      <td>Less often</td>\n",
       "      <td>Never</td>\n",
       "      <td>More than 15 cups</td>\n",
       "      <td>NaN</td>\n",
       "    </tr>\n",
       "    <tr>\n",
       "      <th>1</th>\n",
       "      <td>18-24</td>\n",
       "      <td>Male</td>\n",
       "      <td>4</td>\n",
       "      <td>Vegetarian (No egg or meat)</td>\n",
       "      <td>Rarely</td>\n",
       "      <td>Often</td>\n",
       "      <td>Rarely</td>\n",
       "      <td>Rarely</td>\n",
       "      <td>Lunch</td>\n",
       "      <td>Freshly home-cooked produce</td>\n",
       "      <td>...</td>\n",
       "      <td>Never</td>\n",
       "      <td>Never</td>\n",
       "      <td>Less often</td>\n",
       "      <td>Never</td>\n",
       "      <td>Often</td>\n",
       "      <td>Once a day</td>\n",
       "      <td>Often</td>\n",
       "      <td>Never</td>\n",
       "      <td>11-14 cups</td>\n",
       "      <td>NaN</td>\n",
       "    </tr>\n",
       "    <tr>\n",
       "      <th>2</th>\n",
       "      <td>45-54</td>\n",
       "      <td>Male</td>\n",
       "      <td>3</td>\n",
       "      <td>Pescatarian (Vegetarian who consumes only seaf...</td>\n",
       "      <td>Never</td>\n",
       "      <td>Rarely</td>\n",
       "      <td>Never</td>\n",
       "      <td>Never</td>\n",
       "      <td>All</td>\n",
       "      <td>Freshly home-cooked produce</td>\n",
       "      <td>...</td>\n",
       "      <td>Never</td>\n",
       "      <td>Often</td>\n",
       "      <td>Once a day</td>\n",
       "      <td>Less often</td>\n",
       "      <td>Never</td>\n",
       "      <td>Less often</td>\n",
       "      <td>Once a day</td>\n",
       "      <td>Never</td>\n",
       "      <td>More than 15 cups</td>\n",
       "      <td>NaN</td>\n",
       "    </tr>\n",
       "    <tr>\n",
       "      <th>3</th>\n",
       "      <td>18-24</td>\n",
       "      <td>Male</td>\n",
       "      <td>2</td>\n",
       "      <td>Non-Vegetarian</td>\n",
       "      <td>Often</td>\n",
       "      <td>Often</td>\n",
       "      <td>Never</td>\n",
       "      <td>Sometimes</td>\n",
       "      <td>Lunch</td>\n",
       "      <td>Freshly home-cooked produce</td>\n",
       "      <td>...</td>\n",
       "      <td>Once a day</td>\n",
       "      <td>Few times a week</td>\n",
       "      <td>Few times a week</td>\n",
       "      <td>Once a day</td>\n",
       "      <td>Once a month</td>\n",
       "      <td>Once a month</td>\n",
       "      <td>Few times a week</td>\n",
       "      <td>Never</td>\n",
       "      <td>7-10 cups</td>\n",
       "      <td>NaN</td>\n",
       "    </tr>\n",
       "    <tr>\n",
       "      <th>4</th>\n",
       "      <td>18-24</td>\n",
       "      <td>Female</td>\n",
       "      <td>3</td>\n",
       "      <td>Eggetarian (Vegetarian who consumes egg and eg...</td>\n",
       "      <td>Sometimes</td>\n",
       "      <td>Sometimes</td>\n",
       "      <td>Never</td>\n",
       "      <td>Often</td>\n",
       "      <td>Breakfast</td>\n",
       "      <td>Freshly home-cooked produce</td>\n",
       "      <td>...</td>\n",
       "      <td>Never</td>\n",
       "      <td>Never</td>\n",
       "      <td>Never</td>\n",
       "      <td>Never</td>\n",
       "      <td>Once a month</td>\n",
       "      <td>Once a month</td>\n",
       "      <td>Once a day</td>\n",
       "      <td>Once a month</td>\n",
       "      <td>4-6 cups</td>\n",
       "      <td>NaN</td>\n",
       "    </tr>\n",
       "  </tbody>\n",
       "</table>\n",
       "<p>5 rows × 27 columns</p>\n",
       "</div>"
      ],
      "text/plain": [
       "     Age  Gender  \\\n",
       "0  18-24    Male   \n",
       "1  18-24    Male   \n",
       "2  45-54    Male   \n",
       "3  18-24    Male   \n",
       "4  18-24  Female   \n",
       "\n",
       "   How many meals do you have a day? (number of regular occasions in a day when a significant and reasonably filling amount of food is eaten)  \\\n",
       "0                                                  5                                                                                            \n",
       "1                                                  4                                                                                            \n",
       "2                                                  3                                                                                            \n",
       "3                                                  2                                                                                            \n",
       "4                                                  3                                                                                            \n",
       "\n",
       "                 What would best describe your diet:  \\\n",
       "0  Pollotarian (Vegetarian who consumes poultry a...   \n",
       "1                        Vegetarian (No egg or meat)   \n",
       "2  Pescatarian (Vegetarian who consumes only seaf...   \n",
       "3                                     Non-Vegetarian   \n",
       "4  Eggetarian (Vegetarian who consumes egg and eg...   \n",
       "\n",
       "  Choose all that apply: [I skip meals]  \\\n",
       "0                                Rarely   \n",
       "1                                Rarely   \n",
       "2                                 Never   \n",
       "3                                 Often   \n",
       "4                             Sometimes   \n",
       "\n",
       "  Choose all that apply: [I experience feelings of hunger during the day]  \\\n",
       "0                                              Often                        \n",
       "1                                              Often                        \n",
       "2                                             Rarely                        \n",
       "3                                              Often                        \n",
       "4                                          Sometimes                        \n",
       "\n",
       "  Choose all that apply: [I consult a nutritionist/dietician]  \\\n",
       "0                                              Never            \n",
       "1                                             Rarely            \n",
       "2                                              Never            \n",
       "3                                              Never            \n",
       "4                                              Never            \n",
       "\n",
       "  Choose all that apply: [I cook my own meals]  \\\n",
       "0                                    Sometimes   \n",
       "1                                       Rarely   \n",
       "2                                        Never   \n",
       "3                                    Sometimes   \n",
       "4                                        Often   \n",
       "\n",
       "  What would you consider to be the main meal of YOUR day?  \\\n",
       "0                                              Lunch         \n",
       "1                                              Lunch         \n",
       "2                                                All         \n",
       "3                                              Lunch         \n",
       "4                                          Breakfast         \n",
       "\n",
       "  What does your diet mostly consist of and how is it prepared?  ...  \\\n",
       "0                        Freshly home-cooked produce             ...   \n",
       "1                        Freshly home-cooked produce             ...   \n",
       "2                        Freshly home-cooked produce             ...   \n",
       "3                        Freshly home-cooked produce             ...   \n",
       "4                        Freshly home-cooked produce             ...   \n",
       "\n",
       "   What is your weekly food intake frequency of the following food categories: [Meat]  \\\n",
       "0                                              Often                                    \n",
       "1                                              Never                                    \n",
       "2                                              Never                                    \n",
       "3                                         Once a day                                    \n",
       "4                                              Never                                    \n",
       "\n",
       "  What is your weekly food intake frequency of the following food categories: [Seafood ]  \\\n",
       "0                                              Often                                       \n",
       "1                                              Never                                       \n",
       "2                                              Often                                       \n",
       "3                                   Few times a week                                       \n",
       "4                                              Never                                       \n",
       "\n",
       "  How frequently do you consume these beverages [Tea]  \\\n",
       "0                                              Never    \n",
       "1                                         Less often    \n",
       "2                                         Once a day    \n",
       "3                                   Few times a week    \n",
       "4                                              Never    \n",
       "\n",
       "  How frequently do you consume these beverages [Coffee]  \\\n",
       "0                                              Never       \n",
       "1                                              Never       \n",
       "2                                         Less often       \n",
       "3                                         Once a day       \n",
       "4                                              Never       \n",
       "\n",
       "  How frequently do you consume these beverages [Aerated (Soft) Drinks]  \\\n",
       "0                                         Less often                      \n",
       "1                                              Often                      \n",
       "2                                              Never                      \n",
       "3                                       Once a month                      \n",
       "4                                       Once a month                      \n",
       "\n",
       "  How frequently do you consume these beverages [Fruit Juices (Fresh/Packaged)]  \\\n",
       "0                                              Never                              \n",
       "1                                         Once a day                              \n",
       "2                                         Less often                              \n",
       "3                                       Once a month                              \n",
       "4                                       Once a month                              \n",
       "\n",
       "  How frequently do you consume these beverages [Dairy Beverages (Milk, Milkshakes, Smoothies, Buttermilk, etc)]  \\\n",
       "0                                         Less often                                                               \n",
       "1                                              Often                                                               \n",
       "2                                         Once a day                                                               \n",
       "3                                   Few times a week                                                               \n",
       "4                                         Once a day                                                               \n",
       "\n",
       "  How frequently do you consume these beverages [Alcoholic Beverages]  \\\n",
       "0                                              Never                    \n",
       "1                                              Never                    \n",
       "2                                              Never                    \n",
       "3                                              Never                    \n",
       "4                                       Once a month                    \n",
       "\n",
       "  What is your water consumption like (in a day, 1 cup=250ml approx)      \n",
       "0                                  More than 15 cups                 NaN  \n",
       "1                                         11-14 cups                 NaN  \n",
       "2                                  More than 15 cups                 NaN  \n",
       "3                                          7-10 cups                 NaN  \n",
       "4                                           4-6 cups                 NaN  \n",
       "\n",
       "[5 rows x 27 columns]"
      ]
     },
     "execution_count": 82,
     "metadata": {},
     "output_type": "execute_result"
    }
   ],
   "source": [
    "dietary_habits_df.head()"
   ]
  },
  {
   "cell_type": "code",
   "execution_count": 11,
   "id": "97bff0be",
   "metadata": {},
   "outputs": [
    {
     "data": {
      "text/plain": [
       "(78, 27)"
      ]
     },
     "execution_count": 11,
     "metadata": {},
     "output_type": "execute_result"
    }
   ],
   "source": [
    "dietary_habits_df.shape"
   ]
  },
  {
   "cell_type": "code",
   "execution_count": null,
   "id": "4e7872af",
   "metadata": {},
   "outputs": [],
   "source": [
    "dietary_habits_df.dtypes"
   ]
  },
  {
   "cell_type": "code",
   "execution_count": null,
   "id": "6f176ab0",
   "metadata": {},
   "outputs": [],
   "source": [
    "dietary_habits_df.columns"
   ]
  },
  {
   "cell_type": "code",
   "execution_count": 14,
   "id": "3137b949",
   "metadata": {},
   "outputs": [
    {
     "data": {
      "text/html": [
       "<div>\n",
       "<style scoped>\n",
       "    .dataframe tbody tr th:only-of-type {\n",
       "        vertical-align: middle;\n",
       "    }\n",
       "\n",
       "    .dataframe tbody tr th {\n",
       "        vertical-align: top;\n",
       "    }\n",
       "\n",
       "    .dataframe thead th {\n",
       "        text-align: right;\n",
       "    }\n",
       "</style>\n",
       "<table border=\"1\" class=\"dataframe\">\n",
       "  <thead>\n",
       "    <tr style=\"text-align: right;\">\n",
       "      <th></th>\n",
       "      <th>How many meals do you have a day? (number of regular occasions in a day when a significant and reasonably filling amount of food is eaten)</th>\n",
       "      <th>How many times a week do you order-in or go out to eat?</th>\n",
       "      <th></th>\n",
       "    </tr>\n",
       "  </thead>\n",
       "  <tbody>\n",
       "    <tr>\n",
       "      <th>count</th>\n",
       "      <td>78.000000</td>\n",
       "      <td>78.000000</td>\n",
       "      <td>0.0</td>\n",
       "    </tr>\n",
       "    <tr>\n",
       "      <th>mean</th>\n",
       "      <td>3.128205</td>\n",
       "      <td>1.897436</td>\n",
       "      <td>NaN</td>\n",
       "    </tr>\n",
       "    <tr>\n",
       "      <th>std</th>\n",
       "      <td>0.651850</td>\n",
       "      <td>1.223044</td>\n",
       "      <td>NaN</td>\n",
       "    </tr>\n",
       "    <tr>\n",
       "      <th>min</th>\n",
       "      <td>2.000000</td>\n",
       "      <td>1.000000</td>\n",
       "      <td>NaN</td>\n",
       "    </tr>\n",
       "    <tr>\n",
       "      <th>25%</th>\n",
       "      <td>3.000000</td>\n",
       "      <td>1.000000</td>\n",
       "      <td>NaN</td>\n",
       "    </tr>\n",
       "    <tr>\n",
       "      <th>50%</th>\n",
       "      <td>3.000000</td>\n",
       "      <td>1.500000</td>\n",
       "      <td>NaN</td>\n",
       "    </tr>\n",
       "    <tr>\n",
       "      <th>75%</th>\n",
       "      <td>3.000000</td>\n",
       "      <td>2.000000</td>\n",
       "      <td>NaN</td>\n",
       "    </tr>\n",
       "    <tr>\n",
       "      <th>max</th>\n",
       "      <td>5.000000</td>\n",
       "      <td>7.000000</td>\n",
       "      <td>NaN</td>\n",
       "    </tr>\n",
       "  </tbody>\n",
       "</table>\n",
       "</div>"
      ],
      "text/plain": [
       "       How many meals do you have a day? (number of regular occasions in a day when a significant and reasonably filling amount of food is eaten)  \\\n",
       "count                                          78.000000                                                                                            \n",
       "mean                                            3.128205                                                                                            \n",
       "std                                             0.651850                                                                                            \n",
       "min                                             2.000000                                                                                            \n",
       "25%                                             3.000000                                                                                            \n",
       "50%                                             3.000000                                                                                            \n",
       "75%                                             3.000000                                                                                            \n",
       "max                                             5.000000                                                                                            \n",
       "\n",
       "       How many times a week do you order-in or go out to eat?       \n",
       "count                                          78.000000        0.0  \n",
       "mean                                            1.897436        NaN  \n",
       "std                                             1.223044        NaN  \n",
       "min                                             1.000000        NaN  \n",
       "25%                                             1.000000        NaN  \n",
       "50%                                             1.500000        NaN  \n",
       "75%                                             2.000000        NaN  \n",
       "max                                             7.000000        NaN  "
      ]
     },
     "execution_count": 14,
     "metadata": {},
     "output_type": "execute_result"
    }
   ],
   "source": [
    "dietary_habits_df.describe()"
   ]
  },
  {
   "cell_type": "code",
   "execution_count": null,
   "id": "fe4e65ff",
   "metadata": {},
   "outputs": [],
   "source": [
    "dietary_habits_df.isna().sum()"
   ]
  },
  {
   "cell_type": "code",
   "execution_count": 16,
   "id": "f1b80e12",
   "metadata": {},
   "outputs": [],
   "source": [
    "dietary_habits_df = dietary_habits_df.drop(columns=[' '])"
   ]
  },
  {
   "cell_type": "code",
   "execution_count": 17,
   "id": "4df07e47",
   "metadata": {},
   "outputs": [
    {
     "name": "stdout",
     "output_type": "stream",
     "text": [
      "--------------------------------\n",
      "Age\n",
      "18-24       49\n",
      "Under 18    15\n",
      "45-54        8\n",
      "Above 65     3\n",
      "35-44        3\n",
      "Name: count, dtype: int64\n",
      "--------------------------------\n",
      "Gender\n",
      "Male      40\n",
      "Female    38\n",
      "Name: count, dtype: int64\n",
      "--------------------------------\n",
      "How many meals do you have a day? (number of regular occasions in a day when a significant and reasonably filling amount of food is eaten)\n",
      "3    50\n",
      "4    16\n",
      "2    10\n",
      "5     2\n",
      "Name: count, dtype: int64\n",
      "--------------------------------\n",
      "What would best describe your diet:\n",
      "Non-Vegetarian                                                                  29\n",
      "Vegetarian (No egg or meat)                                                     22\n",
      "Eggetarian (Vegetarian who consumes egg and egg products)                       15\n",
      "Pollotarian (Vegetarian who consumes poultry and white meat but no red meat)     6\n",
      "Pescatarian (Vegetarian who consumes only seafood)                               3\n",
      "Pollo-pescetarian (Vegetarian who consumes seafood and white meat)               3\n",
      "Name: count, dtype: int64\n"
     ]
    }
   ],
   "source": [
    "for col in ['Age','Gender',\n",
    "'How many meals do you have a day? (number of regular occasions in a day when a significant and reasonably filling amount of food is eaten)',\n",
    "'What would best describe your diet:']:\n",
    "    print(\"--------------------------------\")\n",
    "    print(dietary_habits_df[col].value_counts())"
   ]
  },
  {
   "cell_type": "code",
   "execution_count": 18,
   "id": "e2fdccb2",
   "metadata": {},
   "outputs": [
    {
     "name": "stdout",
     "output_type": "stream",
     "text": [
      "------------------------------------------\n",
      "Choose all that apply: [I skip meals]\n",
      "Rarely             31\n",
      "Sometimes          23\n",
      "Never              14\n",
      "Often               8\n",
      "Very frequently     2\n",
      "Name: count, dtype: int64\n",
      "------------------------------------------\n",
      "Choose all that apply: [I experience feelings of hunger during the day]\n",
      "Sometimes          32\n",
      "Often              19\n",
      "Rarely             17\n",
      "Never               6\n",
      "Very frequently     4\n",
      "Name: count, dtype: int64\n",
      "------------------------------------------\n",
      "Choose all that apply: [I consult a nutritionist/dietician]\n",
      "Never        63\n",
      "Rarely       12\n",
      "Sometimes     2\n",
      "Often         1\n",
      "Name: count, dtype: int64\n",
      "------------------------------------------\n",
      "Choose all that apply: [I cook my own meals]\n",
      "Sometimes          20\n",
      "Rarely             19\n",
      "Never              15\n",
      "Very frequently    15\n",
      "Often               9\n",
      "Name: count, dtype: int64\n",
      "------------------------------------------\n",
      "What would you consider to be the main meal of YOUR day?\n",
      "Lunch        44\n",
      "Breakfast    23\n",
      "Dinner       10\n",
      "All           1\n",
      "Name: count, dtype: int64\n",
      "------------------------------------------\n",
      "What does your diet mostly consist of and how is it prepared?\n",
      "Freshly home-cooked produce                   75\n",
      "Restaurant meals                               2\n",
      "Pre-cooked, microwave (ready-to-eat) meals     1\n",
      "Name: count, dtype: int64\n"
     ]
    }
   ],
   "source": [
    "for col_2 in ['Choose all that apply: [I skip meals]',\n",
    "                'Choose all that apply: [I experience feelings of hunger during the day]',\n",
    "                'Choose all that apply: [I consult a nutritionist/dietician]',\n",
    "                'Choose all that apply: [I cook my own meals]',\n",
    "                'What would you consider to be the main meal of YOUR day?',\n",
    "                'What does your diet mostly consist of and how is it prepared?']:\n",
    "        print(\"------------------------------------------\")\n",
    "        print(dietary_habits_df[col_2].value_counts())"
   ]
  },
  {
   "cell_type": "code",
   "execution_count": 19,
   "id": "48c5f166",
   "metadata": {},
   "outputs": [
    {
     "name": "stdout",
     "output_type": "stream",
     "text": [
      "------------------------------------------\n",
      "How many times a week do you order-in or go out to eat?\n",
      "1    39\n",
      "2    22\n",
      "3     9\n",
      "4     4\n",
      "5     3\n",
      "7     1\n",
      "Name: count, dtype: int64\n",
      "------------------------------------------\n",
      "Are you allergic to any of the following? (Tick all that apply)\n",
      "I do not have any allergies    68\n",
      "Milk                            2\n",
      "Onion                           1\n",
      "Curd                            1\n",
      "Leafy Vegetables                1\n",
      "Peanuts and Tree Nuts           1\n",
      "Fish                            1\n",
      "Deep Fried Food                 1\n",
      "Corn                            1\n",
      "Shellfish, Eggplant             1\n",
      "Name: count, dtype: int64\n"
     ]
    }
   ],
   "source": [
    "for col_3 in ['How many times a week do you order-in or go out to eat?',\n",
    "              'Are you allergic to any of the following? (Tick all that apply)']:\n",
    "       print(\"------------------------------------------\") \n",
    "       print(dietary_habits_df[col_3].value_counts())"
   ]
  },
  {
   "cell_type": "code",
   "execution_count": 20,
   "id": "48965b32",
   "metadata": {},
   "outputs": [
    {
     "name": "stdout",
     "output_type": "stream",
     "text": [
      "------------------------------------------\n",
      "What is your weekly food intake frequency of the following food categories: [Sweet foods]\n",
      "Few times a week       31\n",
      "Once a day             21\n",
      "Once a month           13\n",
      "Several times a day     6\n",
      "Never                   4\n",
      "Often                   1\n",
      "Less often              1\n",
      "In every meal           1\n",
      "Name: count, dtype: int64\n",
      "------------------------------------------\n",
      "What is your weekly food intake frequency of the following food categories: [Salty foods]\n",
      "Few times a week       25\n",
      "Several times a day    17\n",
      "Once a day             17\n",
      "In every meal          11\n",
      "Once a month            4\n",
      "Never                   3\n",
      "Often                   1\n",
      "Name: count, dtype: int64\n",
      "------------------------------------------\n",
      "What is your weekly food intake frequency of the following food categories: [Fresh fruit]\n",
      "Once a day             34\n",
      "Several times a day    16\n",
      "Few times a week       13\n",
      "In every meal           8\n",
      "Once a month            4\n",
      "Less often              2\n",
      "Never                   1\n",
      "Name: count, dtype: int64\n",
      "------------------------------------------\n",
      "What is your weekly food intake frequency of the following food categories: [Fresh vegetables]\n",
      "In every meal          30\n",
      "Once a day             21\n",
      "Several times a day    20\n",
      "Few times a week        6\n",
      "Often                   1\n",
      "Name: count, dtype: int64\n",
      "------------------------------------------\n",
      "What is your weekly food intake frequency of the following food categories: [Oily, fried foods]\n",
      "Few times a week       41\n",
      "Once a month           15\n",
      "Once a day             11\n",
      "Several times a day     5\n",
      "Never                   2\n",
      "Less often              2\n",
      "Often                   1\n",
      "In every meal           1\n",
      "Name: count, dtype: int64\n",
      "------------------------------------------\n",
      "What is your weekly food intake frequency of the following food categories: [Meat]\n",
      "Never                  37\n",
      "Few times a week       17\n",
      "Once a month           10\n",
      "Once a day              7\n",
      "In every meal           4\n",
      "Several times a day     2\n",
      "Often                   1\n",
      "Name: count, dtype: int64\n",
      "------------------------------------------\n",
      "What is your weekly food intake frequency of the following food categories: [Seafood ]\n",
      "Never                  45\n",
      "Once a month           16\n",
      "Few times a week       12\n",
      "Often                   2\n",
      "Once a day              2\n",
      "Several times a day     1\n",
      "Name: count, dtype: int64\n"
     ]
    }
   ],
   "source": [
    "for col_4 in ['What is your weekly food intake frequency of the following food categories: [Sweet foods]',\n",
    "              'What is your weekly food intake frequency of the following food categories: [Salty foods]',\n",
    "              'What is your weekly food intake frequency of the following food categories: [Fresh fruit]',\n",
    "              'What is your weekly food intake frequency of the following food categories: [Fresh vegetables]',\n",
    "              'What is your weekly food intake frequency of the following food categories: [Oily, fried foods]',\n",
    "              'What is your weekly food intake frequency of the following food categories: [Meat]',\n",
    "              'What is your weekly food intake frequency of the following food categories: [Seafood ]']:\n",
    "       print(\"------------------------------------------\") \n",
    "       print(dietary_habits_df[col_4].value_counts())"
   ]
  },
  {
   "cell_type": "code",
   "execution_count": 21,
   "id": "eb389dcd",
   "metadata": {},
   "outputs": [
    {
     "name": "stdout",
     "output_type": "stream",
     "text": [
      "------------------------------------------\n",
      "How frequently do you consume these beverages [Tea]\n",
      "Never                  31\n",
      "Once a day             23\n",
      "Once a month           11\n",
      "Few times a week       10\n",
      "Several times a day     2\n",
      "Less often              1\n",
      "Name: count, dtype: int64\n",
      "------------------------------------------\n",
      "How frequently do you consume these beverages [Coffee]\n",
      "Never                  21\n",
      "Few times a week       20\n",
      "Once a day             17\n",
      "Once a month           14\n",
      "Several times a day     5\n",
      "Less often              1\n",
      "Name: count, dtype: int64\n",
      "------------------------------------------\n",
      "How frequently do you consume these beverages [Aerated (Soft) Drinks]\n",
      "Once a month        33\n",
      "Never               23\n",
      "Few times a week    17\n",
      "Once a day           3\n",
      "Often                1\n",
      "Less often           1\n",
      "Name: count, dtype: int64\n",
      "------------------------------------------\n",
      "How frequently do you consume these beverages [Fruit Juices (Fresh/Packaged)]\n",
      "Few times a week       28\n",
      "Once a month           26\n",
      "Never                  13\n",
      "Once a day              9\n",
      "Less often              1\n",
      "Several times a day     1\n",
      "Name: count, dtype: int64\n",
      "------------------------------------------\n",
      "How frequently do you consume these beverages [Dairy Beverages (Milk, Milkshakes, Smoothies, Buttermilk, etc)]\n",
      "Once a day             27\n",
      "Few times a week       26\n",
      "Once a month            9\n",
      "Never                   7\n",
      "Several times a day     5\n",
      "With every meal         2\n",
      "Less often              1\n",
      "Often                   1\n",
      "Name: count, dtype: int64\n",
      "------------------------------------------\n",
      "How frequently do you consume these beverages [Alcoholic Beverages]\n",
      "Never               58\n",
      "Once a month        15\n",
      "Few times a week     5\n",
      "Name: count, dtype: int64\n",
      "------------------------------------------\n",
      "What is your water consumption like (in a day, 1 cup=250ml approx)\n",
      "7-10 cups            31\n",
      "4-6 cups             24\n",
      "11-14 cups           11\n",
      "More than 15 cups     9\n",
      "Less than 3 cups      3\n",
      "Name: count, dtype: int64\n"
     ]
    }
   ],
   "source": [
    "for col_5 in ['How frequently do you consume these beverages [Tea]',\n",
    "                'How frequently do you consume these beverages [Coffee]',\n",
    "                'How frequently do you consume these beverages [Aerated (Soft) Drinks]',\n",
    "                'How frequently do you consume these beverages [Fruit Juices (Fresh/Packaged)]',\n",
    "                'How frequently do you consume these beverages [Dairy Beverages (Milk, Milkshakes, Smoothies, Buttermilk, etc)]',\n",
    "                'How frequently do you consume these beverages [Alcoholic Beverages]',\n",
    "                'What is your water consumption like (in a day, 1 cup=250ml approx)']:\n",
    "        print(\"------------------------------------------\") \n",
    "        print(dietary_habits_df[col_5].value_counts())"
   ]
  },
  {
   "cell_type": "markdown",
   "id": "f0ec6c38",
   "metadata": {},
   "source": [
    "#### Food description dataframe"
   ]
  },
  {
   "cell_type": "code",
   "execution_count": 4,
   "id": "74aac760",
   "metadata": {},
   "outputs": [
    {
     "data": {
      "text/html": [
       "<div>\n",
       "<style scoped>\n",
       "    .dataframe tbody tr th:only-of-type {\n",
       "        vertical-align: middle;\n",
       "    }\n",
       "\n",
       "    .dataframe tbody tr th {\n",
       "        vertical-align: top;\n",
       "    }\n",
       "\n",
       "    .dataframe thead th {\n",
       "        text-align: right;\n",
       "    }\n",
       "</style>\n",
       "<table border=\"1\" class=\"dataframe\">\n",
       "  <thead>\n",
       "    <tr style=\"text-align: right;\">\n",
       "      <th></th>\n",
       "      <th>EFPG_code</th>\n",
       "      <th>EFPG_name</th>\n",
       "      <th>Tier 1 group</th>\n",
       "      <th>Tier 2 group</th>\n",
       "    </tr>\n",
       "  </thead>\n",
       "  <tbody>\n",
       "    <tr>\n",
       "      <th>0</th>\n",
       "      <td>10000</td>\n",
       "      <td>Whole-grain breads</td>\n",
       "      <td>Grains</td>\n",
       "      <td>Whole-grain breads, cereal, rice, pasta, and f...</td>\n",
       "    </tr>\n",
       "    <tr>\n",
       "      <th>1</th>\n",
       "      <td>10025</td>\n",
       "      <td>Whole-grain rice and pasta</td>\n",
       "      <td>Grains</td>\n",
       "      <td>Whole-grain breads, cereal, rice, pasta, and f...</td>\n",
       "    </tr>\n",
       "    <tr>\n",
       "      <th>2</th>\n",
       "      <td>10050</td>\n",
       "      <td>Whole-grain breakfast grains</td>\n",
       "      <td>Grains</td>\n",
       "      <td>Whole-grain breads, cereal, rice, pasta, and f...</td>\n",
       "    </tr>\n",
       "    <tr>\n",
       "      <th>3</th>\n",
       "      <td>10075</td>\n",
       "      <td>Whole-grain flour, bread mixes, and frozen dough</td>\n",
       "      <td>Grains</td>\n",
       "      <td>Whole-grain breads, cereal, rice, pasta, and f...</td>\n",
       "    </tr>\n",
       "    <tr>\n",
       "      <th>4</th>\n",
       "      <td>15000</td>\n",
       "      <td>Non-whole-grain breads</td>\n",
       "      <td>Grains</td>\n",
       "      <td>Non-whole-grain breads, cereal, rice, pasta, a...</td>\n",
       "    </tr>\n",
       "    <tr>\n",
       "      <th>5</th>\n",
       "      <td>15025</td>\n",
       "      <td>Non-whole-grain rice and pasta</td>\n",
       "      <td>Grains</td>\n",
       "      <td>Non-whole-grain breads, cereal, rice, pasta, a...</td>\n",
       "    </tr>\n",
       "    <tr>\n",
       "      <th>6</th>\n",
       "      <td>15050</td>\n",
       "      <td>Non-whole-grain breakfast grains</td>\n",
       "      <td>Grains</td>\n",
       "      <td>Non-whole-grain breads, cereal, rice, pasta, a...</td>\n",
       "    </tr>\n",
       "    <tr>\n",
       "      <th>7</th>\n",
       "      <td>15075</td>\n",
       "      <td>Non-whole-grain flour, bread mixes, and frozen...</td>\n",
       "      <td>Grains</td>\n",
       "      <td>Non-whole-grain breads, cereal, rice, pasta, a...</td>\n",
       "    </tr>\n",
       "    <tr>\n",
       "      <th>8</th>\n",
       "      <td>20000</td>\n",
       "      <td>Potatoes, fresh</td>\n",
       "      <td>Vegetables</td>\n",
       "      <td>Potatoes</td>\n",
       "    </tr>\n",
       "    <tr>\n",
       "      <th>9</th>\n",
       "      <td>20075</td>\n",
       "      <td>Potatoes, canned</td>\n",
       "      <td>Vegetables</td>\n",
       "      <td>Potatoes</td>\n",
       "    </tr>\n",
       "  </tbody>\n",
       "</table>\n",
       "</div>"
      ],
      "text/plain": [
       "   EFPG_code                                          EFPG_name Tier 1 group  \\\n",
       "0      10000                                 Whole-grain breads       Grains   \n",
       "1      10025                         Whole-grain rice and pasta       Grains   \n",
       "2      10050                       Whole-grain breakfast grains       Grains   \n",
       "3      10075   Whole-grain flour, bread mixes, and frozen dough       Grains   \n",
       "4      15000                             Non-whole-grain breads       Grains   \n",
       "5      15025                     Non-whole-grain rice and pasta       Grains   \n",
       "6      15050                   Non-whole-grain breakfast grains       Grains   \n",
       "7      15075  Non-whole-grain flour, bread mixes, and frozen...       Grains   \n",
       "8      20000                                    Potatoes, fresh   Vegetables   \n",
       "9      20075                                   Potatoes, canned   Vegetables   \n",
       "\n",
       "                                        Tier 2 group  \n",
       "0  Whole-grain breads, cereal, rice, pasta, and f...  \n",
       "1  Whole-grain breads, cereal, rice, pasta, and f...  \n",
       "2  Whole-grain breads, cereal, rice, pasta, and f...  \n",
       "3  Whole-grain breads, cereal, rice, pasta, and f...  \n",
       "4  Non-whole-grain breads, cereal, rice, pasta, a...  \n",
       "5  Non-whole-grain breads, cereal, rice, pasta, a...  \n",
       "6  Non-whole-grain breads, cereal, rice, pasta, a...  \n",
       "7  Non-whole-grain breads, cereal, rice, pasta, a...  \n",
       "8                                           Potatoes  \n",
       "9                                           Potatoes  "
      ]
     },
     "execution_count": 4,
     "metadata": {},
     "output_type": "execute_result"
    }
   ],
   "source": [
    "food_description_df.head(10)"
   ]
  },
  {
   "cell_type": "code",
   "execution_count": 5,
   "id": "e4fb9cdd",
   "metadata": {},
   "outputs": [
    {
     "data": {
      "text/plain": [
       "(90, 4)"
      ]
     },
     "execution_count": 5,
     "metadata": {},
     "output_type": "execute_result"
    }
   ],
   "source": [
    "food_description_df.shape"
   ]
  },
  {
   "cell_type": "code",
   "execution_count": 6,
   "id": "4da5706a",
   "metadata": {},
   "outputs": [
    {
     "data": {
      "text/plain": [
       "EFPG_code        int64\n",
       "EFPG_name       object\n",
       "Tier 1 group    object\n",
       "Tier 2 group    object\n",
       "dtype: object"
      ]
     },
     "execution_count": 6,
     "metadata": {},
     "output_type": "execute_result"
    }
   ],
   "source": [
    "food_description_df.dtypes"
   ]
  },
  {
   "cell_type": "code",
   "execution_count": 7,
   "id": "709f4b6c",
   "metadata": {},
   "outputs": [
    {
     "data": {
      "text/html": [
       "<div>\n",
       "<style scoped>\n",
       "    .dataframe tbody tr th:only-of-type {\n",
       "        vertical-align: middle;\n",
       "    }\n",
       "\n",
       "    .dataframe tbody tr th {\n",
       "        vertical-align: top;\n",
       "    }\n",
       "\n",
       "    .dataframe thead th {\n",
       "        text-align: right;\n",
       "    }\n",
       "</style>\n",
       "<table border=\"1\" class=\"dataframe\">\n",
       "  <thead>\n",
       "    <tr style=\"text-align: right;\">\n",
       "      <th></th>\n",
       "      <th>EFPG_code</th>\n",
       "      <th>EFPG_name</th>\n",
       "      <th>Tier 1 group</th>\n",
       "      <th>Tier 2 group</th>\n",
       "    </tr>\n",
       "  </thead>\n",
       "  <tbody>\n",
       "    <tr>\n",
       "      <th>57</th>\n",
       "      <td>54550</td>\n",
       "      <td>Nut and seed butters and spreads</td>\n",
       "      <td>Meat and Protein Foods</td>\n",
       "      <td>Nuts, nut butters, and seeds</td>\n",
       "    </tr>\n",
       "    <tr>\n",
       "      <th>58</th>\n",
       "      <td>54550</td>\n",
       "      <td>Bacon, sausage, and lunch meats</td>\n",
       "      <td>Meat and Protein Foods</td>\n",
       "      <td>Bacon, sausage, and lunch meats</td>\n",
       "    </tr>\n",
       "  </tbody>\n",
       "</table>\n",
       "</div>"
      ],
      "text/plain": [
       "    EFPG_code                         EFPG_name            Tier 1 group  \\\n",
       "57      54550  Nut and seed butters and spreads  Meat and Protein Foods   \n",
       "58      54550   Bacon, sausage, and lunch meats  Meat and Protein Foods   \n",
       "\n",
       "                       Tier 2 group  \n",
       "57     Nuts, nut butters, and seeds  \n",
       "58  Bacon, sausage, and lunch meats  "
      ]
     },
     "execution_count": 7,
     "metadata": {},
     "output_type": "execute_result"
    }
   ],
   "source": [
    "duplicate_code = food_description_df.duplicated(subset='EFPG_code', keep=False)\n",
    "food_description_df[duplicate_code]"
   ]
  },
  {
   "cell_type": "code",
   "execution_count": 8,
   "id": "40ec5217",
   "metadata": {},
   "outputs": [
    {
     "data": {
      "text/plain": [
       "EFPG_code       0\n",
       "EFPG_name       0\n",
       "Tier 1 group    0\n",
       "Tier 2 group    0\n",
       "dtype: int64"
      ]
     },
     "execution_count": 8,
     "metadata": {},
     "output_type": "execute_result"
    }
   ],
   "source": [
    "food_description_df.isna().sum()"
   ]
  },
  {
   "cell_type": "code",
   "execution_count": 9,
   "id": "66279fbd",
   "metadata": {},
   "outputs": [
    {
     "name": "stdout",
     "output_type": "stream",
     "text": [
      "Names of foods group 1: ['Grains' 'Vegetables' 'Fruit' 'Dairy' 'Meat and Protein Foods'\n",
      " 'Prepared meals, sides, and salads' 'Other foods']\n",
      "------------------------------------------------\n",
      "Number of diferent foods group 1: 7\n"
     ]
    }
   ],
   "source": [
    "for col_food in ['Tier 1 group']:\n",
    "    print(f\"Names of foods group 1: {food_description_df[col_food].unique()}\")\n",
    "    print(\"------------------------------------------------\")\n",
    "    print(f\"Number of diferent foods group 1: {food_description_df[col_food].nunique()}\")"
   ]
  },
  {
   "cell_type": "code",
   "execution_count": 10,
   "id": "087c5e12",
   "metadata": {},
   "outputs": [
    {
     "name": "stdout",
     "output_type": "stream",
     "text": [
      "Names of foods group 2: ['Whole-grain breads, cereal, rice, pasta, and flours'\n",
      " 'Non-whole-grain breads, cereal, rice, pasta, and flours' 'Potatoes'\n",
      " 'Other starchy vegetables' 'Tomatoes' 'Other red and orange vegetables'\n",
      " 'Dark green' 'Beans, lentils, peas, and legumes' 'Other/mixed vegetables'\n",
      " 'Whole fruit' '100% fruit and vegetable juices'\n",
      " 'Whole milk, yogurt, and cream'\n",
      " 'Reduced-fat, low-fat, and skim milk, cream, and yogurt' 'Cheese'\n",
      " 'Beef, pork, lamb, veal and game' 'Chicken, turkey, and game birds'\n",
      " 'Fish and seafood' 'Nuts, nut butters, and seeds'\n",
      " 'Bacon, sausage, and lunch meats' 'Egg and egg substitutes'\n",
      " 'Tofu and meat substitutes' 'Ready-to-eat foods'\n",
      " 'Frozen/refrigerated ready-to-heat foods'\n",
      " 'Shelf-stable ready-to-heat foods and soups' 'Shelf-stable meal kits'\n",
      " 'Fats, oils, and salad dressings'\n",
      " 'Gravies, sauces, condiments, and spices' 'Beverages'\n",
      " 'Desserts, sweets, and candies' 'Breakfast cereals' 'Savory snacks'\n",
      " 'Vitamins and meal supplements' 'Baby food' 'Infant formula']\n",
      "-------------------------------------------------\n",
      "Number of diferent foods group 2: 34\n"
     ]
    }
   ],
   "source": [
    "for col_food in ['Tier 2 group']:\n",
    "    print(f\"Names of foods group 2: {food_description_df[col_food].unique()}\")\n",
    "    print(\"-------------------------------------------------\")\n",
    "    print(f\"Number of diferent foods group 2: {food_description_df[col_food].nunique()}\")"
   ]
  },
  {
   "cell_type": "markdown",
   "id": "b7826397",
   "metadata": {},
   "source": [
    "#### Food prices dataframe"
   ]
  },
  {
   "cell_type": "code",
   "execution_count": 11,
   "id": "f607b1b9",
   "metadata": {},
   "outputs": [
    {
     "data": {
      "text/html": [
       "<div>\n",
       "<style scoped>\n",
       "    .dataframe tbody tr th:only-of-type {\n",
       "        vertical-align: middle;\n",
       "    }\n",
       "\n",
       "    .dataframe tbody tr th {\n",
       "        vertical-align: top;\n",
       "    }\n",
       "\n",
       "    .dataframe thead th {\n",
       "        text-align: right;\n",
       "    }\n",
       "</style>\n",
       "<table border=\"1\" class=\"dataframe\">\n",
       "  <thead>\n",
       "    <tr style=\"text-align: right;\">\n",
       "      <th></th>\n",
       "      <th>Year</th>\n",
       "      <th>Month</th>\n",
       "      <th>EFPG_code</th>\n",
       "      <th>Metroregion_code</th>\n",
       "      <th>Attribute</th>\n",
       "      <th>Value</th>\n",
       "    </tr>\n",
       "  </thead>\n",
       "  <tbody>\n",
       "    <tr>\n",
       "      <th>0</th>\n",
       "      <td>2012</td>\n",
       "      <td>1</td>\n",
       "      <td>10000</td>\n",
       "      <td>National</td>\n",
       "      <td>Total weighted monthly sales in U.S. dollars</td>\n",
       "      <td>2.493734e+08</td>\n",
       "    </tr>\n",
       "    <tr>\n",
       "      <th>1</th>\n",
       "      <td>2012</td>\n",
       "      <td>1</td>\n",
       "      <td>10000</td>\n",
       "      <td>National</td>\n",
       "      <td>Total weighted monthly quantities in grams</td>\n",
       "      <td>4.875195e+10</td>\n",
       "    </tr>\n",
       "    <tr>\n",
       "      <th>2</th>\n",
       "      <td>2012</td>\n",
       "      <td>1</td>\n",
       "      <td>10000</td>\n",
       "      <td>National</td>\n",
       "      <td>Total unweighted monthly sales in U.S. dollars</td>\n",
       "      <td>1.629852e+08</td>\n",
       "    </tr>\n",
       "    <tr>\n",
       "      <th>3</th>\n",
       "      <td>2012</td>\n",
       "      <td>1</td>\n",
       "      <td>10000</td>\n",
       "      <td>National</td>\n",
       "      <td>Total unweighted monthly quantities in grams</td>\n",
       "      <td>3.217558e+10</td>\n",
       "    </tr>\n",
       "    <tr>\n",
       "      <th>4</th>\n",
       "      <td>2012</td>\n",
       "      <td>1</td>\n",
       "      <td>10000</td>\n",
       "      <td>National</td>\n",
       "      <td>Number of stores in geographic area</td>\n",
       "      <td>4.178100e+04</td>\n",
       "    </tr>\n",
       "  </tbody>\n",
       "</table>\n",
       "</div>"
      ],
      "text/plain": [
       "   Year  Month  EFPG_code Metroregion_code  \\\n",
       "0  2012      1      10000         National   \n",
       "1  2012      1      10000         National   \n",
       "2  2012      1      10000         National   \n",
       "3  2012      1      10000         National   \n",
       "4  2012      1      10000         National   \n",
       "\n",
       "                                        Attribute         Value  \n",
       "0    Total weighted monthly sales in U.S. dollars  2.493734e+08  \n",
       "1      Total weighted monthly quantities in grams  4.875195e+10  \n",
       "2  Total unweighted monthly sales in U.S. dollars  1.629852e+08  \n",
       "3   Total unweighted monthly quantities in grams   3.217558e+10  \n",
       "4             Number of stores in geographic area  4.178100e+04  "
      ]
     },
     "execution_count": 11,
     "metadata": {},
     "output_type": "execute_result"
    }
   ],
   "source": [
    "food_prices_df.head()"
   ]
  },
  {
   "cell_type": "code",
   "execution_count": 12,
   "id": "9609529c",
   "metadata": {},
   "outputs": [
    {
     "data": {
      "text/plain": [
       "(1020600, 6)"
      ]
     },
     "execution_count": 12,
     "metadata": {},
     "output_type": "execute_result"
    }
   ],
   "source": [
    "food_prices_df.shape"
   ]
  },
  {
   "cell_type": "code",
   "execution_count": 15,
   "id": "2532a5fe",
   "metadata": {},
   "outputs": [
    {
     "data": {
      "text/plain": [
       "Year                  int64\n",
       "Month                 int64\n",
       "EFPG_code             int64\n",
       "Metroregion_code     object\n",
       "Attribute            object\n",
       "Value               float64\n",
       "dtype: object"
      ]
     },
     "execution_count": 15,
     "metadata": {},
     "output_type": "execute_result"
    }
   ],
   "source": [
    "food_prices_df.dtypes"
   ]
  },
  {
   "cell_type": "code",
   "execution_count": 13,
   "id": "7e134f74",
   "metadata": {},
   "outputs": [
    {
     "data": {
      "text/plain": [
       "Year                0\n",
       "Month               0\n",
       "EFPG_code           0\n",
       "Metroregion_code    0\n",
       "Attribute           0\n",
       "Value               0\n",
       "dtype: int64"
      ]
     },
     "execution_count": 13,
     "metadata": {},
     "output_type": "execute_result"
    }
   ],
   "source": [
    "food_prices_df.isna().sum()"
   ]
  },
  {
   "cell_type": "code",
   "execution_count": 18,
   "id": "8361470f",
   "metadata": {},
   "outputs": [
    {
     "name": "stdout",
     "output_type": "stream",
     "text": [
      "-------------------------------------\n",
      "[2012 2013 2014 2015 2016 2017 2018]\n",
      "-------------------------------------\n",
      "[ 1  2  3  4  5  6  7  8  9 10 11 12]\n",
      "-------------------------------------\n",
      "['National' 'Census Region 1: Northeast' 'Census Region 2: Midwest'\n",
      " 'Census Region 3: South' 'Census Region 4: West'\n",
      " 'Atlanta-Sandy Springs-Roswell, GA' 'Boston-Cambridge-Newton, MA-NH'\n",
      " 'Chicago-Naperville-Elgin, IL-IN-WI' 'Dallas-Fort Worth-Arlington, TX'\n",
      " 'Detroit-Warren-Dearborn, MI' 'Houston-The Woodlands-Sugar Land, TX'\n",
      " 'Los Angeles-Long Beach-Anaheim, CA'\n",
      " 'Miami-Fort Lauderdale-West Palm Beach, FL'\n",
      " 'New York-Newark-Jersey City, NY-NJ-PA'\n",
      " 'Philadelphia-Camden-Wilmington, PA-NJ-DE-MD' '0' '1' '2' '3' '4']\n",
      "-------------------------------------\n",
      "['Total weighted monthly sales in U.S. dollars'\n",
      " 'Total weighted monthly quantities in grams'\n",
      " 'Total unweighted monthly sales in U.S. dollars'\n",
      " 'Total unweighted monthly quantities in grams '\n",
      " 'Number of stores in geographic area'\n",
      " 'Weighted mean unit value per 100 grams'\n",
      " 'Standard error of weighted mean unit value'\n",
      " 'Unweighted mean unit value per 100 grams'\n",
      " 'Price index, constructed using Gini-Elteto-Koves-Szulc (GEKS) formula']\n"
     ]
    }
   ],
   "source": [
    "for col_food_price in ['Year', 'Month','Metroregion_code','Attribute']:\n",
    "    print(\"-------------------------------------\")\n",
    "    print(food_prices_df[col_food_price].unique())"
   ]
  },
  {
   "cell_type": "code",
   "execution_count": 17,
   "id": "4310535d",
   "metadata": {},
   "outputs": [
    {
     "data": {
      "text/plain": [
       "count    1.020600e+06\n",
       "mean     4.452703e+09\n",
       "std      4.794131e+10\n",
       "min      4.560000e-05\n",
       "25%      5.754512e-01\n",
       "50%      1.109000e+03\n",
       "75%      5.160352e+07\n",
       "max      3.340000e+12\n",
       "Name: Value, dtype: float64"
      ]
     },
     "execution_count": 17,
     "metadata": {},
     "output_type": "execute_result"
    }
   ],
   "source": [
    "food_prices_df['Value'].describe()"
   ]
  },
  {
   "cell_type": "markdown",
   "id": "09d6bff2",
   "metadata": {},
   "source": [
    "### Analysis"
   ]
  },
  {
   "cell_type": "markdown",
   "id": "18d9413c",
   "metadata": {},
   "source": [
    "##### Income vs Healthy and Unhealthy habits"
   ]
  },
  {
   "cell_type": "code",
   "execution_count": 85,
   "id": "d10ed3b6",
   "metadata": {},
   "outputs": [],
   "source": [
    "survey_data = dietary_habits_df.copy()"
   ]
  },
  {
   "cell_type": "code",
   "execution_count": 86,
   "id": "4dbd912b",
   "metadata": {},
   "outputs": [],
   "source": [
    "# Organizing columns\n",
    "healthy_columns = ['What is your weekly food intake frequency of the following food categories: [Fresh fruit]',\n",
    "                'What is your weekly food intake frequency of the following food categories: [Fresh vegetables]',\n",
    "                'What is your weekly food intake frequency of the following food categories: [Seafood ]']\n",
    "\n",
    "unhealthy_columns = ['How frequently do you consume these beverages [Aerated (Soft) Drinks]',\n",
    "                'How frequently do you consume these beverages [Dairy Beverages (Milk, Milkshakes, Smoothies, Buttermilk, etc)]',\n",
    "                'How frequently do you consume these beverages [Alcoholic Beverages]',\n",
    "                'What is your weekly food intake frequency of the following food categories: [Sweet foods]',\n",
    "                'What is your weekly food intake frequency of the following food categories: [Oily, fried foods]',\n",
    "                'What is your weekly food intake frequency of the following food categories: [Salty foods]']"
   ]
  },
  {
   "cell_type": "code",
   "execution_count": 87,
   "id": "3af225ff",
   "metadata": {},
   "outputs": [],
   "source": [
    "# Turning categorical responses into numbers\n",
    "def responses_frecuency(values):\n",
    "    frecuencies = {\n",
    "        'Never': 0,\n",
    "        'Less often': 1,\n",
    "        'Once a month': 2,\n",
    "        'Few times a week': 3,\n",
    "        'Once a day': 4,\n",
    "        'Often': 5,\n",
    "        'Several times a day': 6,\n",
    "        'In every meal': 7,\n",
    "        'With every meal': 7}\n",
    "    return frecuencies.get(values, None)\n",
    "\n",
    "for column_change in healthy_columns + unhealthy_columns:\n",
    "    survey_data[column_change] = survey_data[column_change].map(responses_frecuency)"
   ]
  },
  {
   "cell_type": "code",
   "execution_count": 88,
   "id": "96c4b8f0",
   "metadata": {},
   "outputs": [],
   "source": [
    "# Creating indexes\n",
    "survey_data['Healthy_eating_score'] = survey_data[healthy_columns].sum(axis=1)\n",
    "survey_data['Unhealthy_eating_score'] = survey_data[unhealthy_columns].sum(axis=1)"
   ]
  },
  {
   "cell_type": "code",
   "execution_count": 89,
   "id": "79f2ddaa",
   "metadata": {},
   "outputs": [
    {
     "data": {
      "text/html": [
       "<div>\n",
       "<style scoped>\n",
       "    .dataframe tbody tr th:only-of-type {\n",
       "        vertical-align: middle;\n",
       "    }\n",
       "\n",
       "    .dataframe tbody tr th {\n",
       "        vertical-align: top;\n",
       "    }\n",
       "\n",
       "    .dataframe thead th {\n",
       "        text-align: right;\n",
       "    }\n",
       "</style>\n",
       "<table border=\"1\" class=\"dataframe\">\n",
       "  <thead>\n",
       "    <tr style=\"text-align: right;\">\n",
       "      <th></th>\n",
       "      <th>Age</th>\n",
       "      <th>Healthy_eating_score</th>\n",
       "      <th>Unhealthy_eating_score</th>\n",
       "    </tr>\n",
       "  </thead>\n",
       "  <tbody>\n",
       "    <tr>\n",
       "      <th>0</th>\n",
       "      <td>18-24</td>\n",
       "      <td>10</td>\n",
       "      <td>8</td>\n",
       "    </tr>\n",
       "    <tr>\n",
       "      <th>1</th>\n",
       "      <td>18-24</td>\n",
       "      <td>6</td>\n",
       "      <td>25</td>\n",
       "    </tr>\n",
       "    <tr>\n",
       "      <th>2</th>\n",
       "      <td>45-54</td>\n",
       "      <td>19</td>\n",
       "      <td>15</td>\n",
       "    </tr>\n",
       "    <tr>\n",
       "      <th>3</th>\n",
       "      <td>18-24</td>\n",
       "      <td>16</td>\n",
       "      <td>16</td>\n",
       "    </tr>\n",
       "    <tr>\n",
       "      <th>4</th>\n",
       "      <td>18-24</td>\n",
       "      <td>11</td>\n",
       "      <td>17</td>\n",
       "    </tr>\n",
       "    <tr>\n",
       "      <th>5</th>\n",
       "      <td>18-24</td>\n",
       "      <td>9</td>\n",
       "      <td>18</td>\n",
       "    </tr>\n",
       "    <tr>\n",
       "      <th>6</th>\n",
       "      <td>18-24</td>\n",
       "      <td>14</td>\n",
       "      <td>10</td>\n",
       "    </tr>\n",
       "    <tr>\n",
       "      <th>7</th>\n",
       "      <td>Above 65</td>\n",
       "      <td>17</td>\n",
       "      <td>20</td>\n",
       "    </tr>\n",
       "    <tr>\n",
       "      <th>8</th>\n",
       "      <td>Above 65</td>\n",
       "      <td>11</td>\n",
       "      <td>19</td>\n",
       "    </tr>\n",
       "    <tr>\n",
       "      <th>9</th>\n",
       "      <td>Under 18</td>\n",
       "      <td>13</td>\n",
       "      <td>19</td>\n",
       "    </tr>\n",
       "  </tbody>\n",
       "</table>\n",
       "</div>"
      ],
      "text/plain": [
       "        Age  Healthy_eating_score  Unhealthy_eating_score\n",
       "0     18-24                    10                       8\n",
       "1     18-24                     6                      25\n",
       "2     45-54                    19                      15\n",
       "3     18-24                    16                      16\n",
       "4     18-24                    11                      17\n",
       "5     18-24                     9                      18\n",
       "6     18-24                    14                      10\n",
       "7  Above 65                    17                      20\n",
       "8  Above 65                    11                      19\n",
       "9  Under 18                    13                      19"
      ]
     },
     "execution_count": 89,
     "metadata": {},
     "output_type": "execute_result"
    }
   ],
   "source": [
    "survey_data[['Age','Healthy_eating_score', 'Unhealthy_eating_score']].head(10)"
   ]
  },
  {
   "cell_type": "code",
   "execution_count": 90,
   "id": "588c6fef",
   "metadata": {},
   "outputs": [
    {
     "data": {
      "image/png": "[encoded data removed]",
      "text/plain": [
       "<Figure size 1200x600 with 1 Axes>"
      ]
     },
     "metadata": {},
     "output_type": "display_data"
    }
   ],
   "source": [
    "max_score_healthy = survey_data['Healthy_eating_score'].max()\n",
    "plt.figure(figsize=(12,6))\n",
    "sns.histplot(data=survey_data, x='Healthy_eating_score', bins=np.arange(5, max_score_healthy +2)-0.5, kde=False)\n",
    "plt.title(\"Distribution of Healthy Eating Score\", fontsize=14, weight=\"bold\")\n",
    "plt.xlabel(\"Healthy Eating Score\", fontsize=11, weight=\"bold\")\n",
    "plt.xticks(range(5, max_score_healthy +1))\n",
    "plt.ylabel(\"Number of answers\", fontsize=11, weight=\"bold\")\n",
    "plt.show()"
   ]
  },
  {
   "cell_type": "code",
   "execution_count": 91,
   "id": "02819aa7",
   "metadata": {},
   "outputs": [
    {
     "data": {
      "image/png": "[encoded data removed]",
      "text/plain": [
       "<Figure size 1200x600 with 1 Axes>"
      ]
     },
     "metadata": {},
     "output_type": "display_data"
    }
   ],
   "source": [
    "max_score_unhealthy = survey_data['Unhealthy_eating_score'].max()\n",
    "plt.figure(figsize=(12,6))\n",
    "sns.histplot(data=survey_data, x='Unhealthy_eating_score', bins=np.arange(6, max_score_unhealthy +2)-0.5, kde=False)\n",
    "plt.title(\"Distribution of Unhealthy Eating Score\", fontsize=14, weight=\"bold\")\n",
    "plt.xlabel(\"Unhealthy Eating Score\", fontsize=11, weight=\"bold\")\n",
    "plt.xticks(range(6, max_score_unhealthy +1))\n",
    "plt.ylabel(\"Number of answers\", fontsize=11, weight=\"bold\")\n",
    "plt.show()"
   ]
  },
  {
   "cell_type": "code",
   "execution_count": 40,
   "id": "f7332005",
   "metadata": {},
   "outputs": [
    {
     "data": {
      "image/png": "[encoded data removed]",
      "text/plain": [
       "<Figure size 1200x600 with 1 Axes>"
      ]
     },
     "metadata": {},
     "output_type": "display_data"
    }
   ],
   "source": [
    "plt.figure(figsize=(12,6))\n",
    "sns.histplot(data=income_expenditure_df, x='Mthly_HH_Income')\n",
    "plt.title(\"Distribution of Monthly Incomes\", fontsize=14, weight=\"bold\")\n",
    "plt.xlabel(\"Monthly incomes\", fontsize=11, weight=\"bold\")\n",
    "plt.ylabel(\"Number of people\", fontsize=11, weight=\"bold\")\n",
    "plt.show()"
   ]
  },
  {
   "cell_type": "code",
   "execution_count": 33,
   "id": "9773e533",
   "metadata": {},
   "outputs": [],
   "source": [
    "# Grouping monthly household income column\n",
    "ranges_income = [5000, 23000, 35000, 50000, 100000]\n",
    "names_income = ['Low', 'Medium', 'High', 'Very High']\n",
    "\n",
    "income_expenditure_df['Group_incomes'] = pd.cut(income_expenditure_df['Mthly_HH_Income']\\\n",
    "                                                ,bins=ranges_income, labels=names_income, include_lowest=True)"
   ]
  },
  {
   "cell_type": "code",
   "execution_count": 70,
   "id": "61285c95",
   "metadata": {},
   "outputs": [],
   "source": [
    "incomes_group = (income_expenditure_df.groupby('Group_incomes', observed=True).size().reset_index(name='count'))\n",
    "incomes_group_sort = incomes_group.sort_values('count', ascending=False)"
   ]
  },
  {
   "cell_type": "code",
   "execution_count": 73,
   "id": "3fc84c74",
   "metadata": {},
   "outputs": [
    {
     "data": {
      "image/png": "[encoded data removed]",
      "text/plain": [
       "<Figure size 800x600 with 1 Axes>"
      ]
     },
     "metadata": {},
     "output_type": "display_data"
    }
   ],
   "source": [
    "plt.figure(figsize=(8,6))\n",
    "sns.barplot(data=incomes_group_sort, x='Group_incomes', y='count', order=incomes_group_sort['Group_incomes'])\n",
    "plt.title(\"Number of People by Income Groups\", fontsize=14, weight=\"bold\")\n",
    "plt.xlabel(\"Income Groups\", fontsize=11, weight=\"bold\")\n",
    "plt.show()"
   ]
  },
  {
   "cell_type": "code",
   "execution_count": 74,
   "id": "13d50181",
   "metadata": {},
   "outputs": [
    {
     "data": {
      "text/html": [
       "<div>\n",
       "<style scoped>\n",
       "    .dataframe tbody tr th:only-of-type {\n",
       "        vertical-align: middle;\n",
       "    }\n",
       "\n",
       "    .dataframe tbody tr th {\n",
       "        vertical-align: top;\n",
       "    }\n",
       "\n",
       "    .dataframe thead th {\n",
       "        text-align: right;\n",
       "    }\n",
       "</style>\n",
       "<table border=\"1\" class=\"dataframe\">\n",
       "  <thead>\n",
       "    <tr style=\"text-align: right;\">\n",
       "      <th></th>\n",
       "      <th>Group_incomes</th>\n",
       "      <th>Mthly_HH_Income</th>\n",
       "      <th>Mthly_HH_Expense</th>\n",
       "      <th>No_of_Fly_Members</th>\n",
       "      <th>Emi_or_Rent_Amt</th>\n",
       "      <th>Annual_HH_Income</th>\n",
       "      <th>No_of_Earning_Members</th>\n",
       "    </tr>\n",
       "  </thead>\n",
       "  <tbody>\n",
       "    <tr>\n",
       "      <th>0</th>\n",
       "      <td>Low</td>\n",
       "      <td>14291.666667</td>\n",
       "      <td>11541.666667</td>\n",
       "      <td>3.000000</td>\n",
       "      <td>5916.666667</td>\n",
       "      <td>173250.000000</td>\n",
       "      <td>1.166667</td>\n",
       "    </tr>\n",
       "    <tr>\n",
       "      <th>1</th>\n",
       "      <td>Medium</td>\n",
       "      <td>28992.857143</td>\n",
       "      <td>14885.714286</td>\n",
       "      <td>4.000000</td>\n",
       "      <td>1035.714286</td>\n",
       "      <td>347422.285714</td>\n",
       "      <td>1.357143</td>\n",
       "    </tr>\n",
       "    <tr>\n",
       "      <th>2</th>\n",
       "      <td>High</td>\n",
       "      <td>44272.727273</td>\n",
       "      <td>18363.636364</td>\n",
       "      <td>4.545455</td>\n",
       "      <td>954.545455</td>\n",
       "      <td>525436.363636</td>\n",
       "      <td>1.545455</td>\n",
       "    </tr>\n",
       "    <tr>\n",
       "      <th>3</th>\n",
       "      <td>Very High</td>\n",
       "      <td>77961.538462</td>\n",
       "      <td>30153.846154</td>\n",
       "      <td>4.692308</td>\n",
       "      <td>4384.615385</td>\n",
       "      <td>906018.461538</td>\n",
       "      <td>1.769231</td>\n",
       "    </tr>\n",
       "  </tbody>\n",
       "</table>\n",
       "</div>"
      ],
      "text/plain": [
       "  Group_incomes  Mthly_HH_Income  Mthly_HH_Expense  No_of_Fly_Members  \\\n",
       "0           Low     14291.666667      11541.666667           3.000000   \n",
       "1        Medium     28992.857143      14885.714286           4.000000   \n",
       "2          High     44272.727273      18363.636364           4.545455   \n",
       "3     Very High     77961.538462      30153.846154           4.692308   \n",
       "\n",
       "   Emi_or_Rent_Amt  Annual_HH_Income  No_of_Earning_Members  \n",
       "0      5916.666667     173250.000000               1.166667  \n",
       "1      1035.714286     347422.285714               1.357143  \n",
       "2       954.545455     525436.363636               1.545455  \n",
       "3      4384.615385     906018.461538               1.769231  "
      ]
     },
     "execution_count": 74,
     "metadata": {},
     "output_type": "execute_result"
    }
   ],
   "source": [
    "# Mean of each column based on Group Incomes\n",
    "incomes_summary = income_expenditure_df.groupby('Group_incomes', observed=True).agg({\n",
    "    'Mthly_HH_Income': 'mean',\n",
    "    'Mthly_HH_Expense': 'mean', \n",
    "    'No_of_Fly_Members': 'mean',\n",
    "    'Emi_or_Rent_Amt': 'mean',\n",
    "    'Annual_HH_Income': 'mean',\n",
    "    'No_of_Earning_Members': 'mean'}).reset_index()\n",
    "incomes_summary"
   ]
  },
  {
   "cell_type": "markdown",
   "id": "8d3fde3b",
   "metadata": {},
   "source": [
    "##### Frecuency of consumption of Healthy foods"
   ]
  },
  {
   "cell_type": "code",
   "execution_count": 112,
   "id": "29d4db6f",
   "metadata": {},
   "outputs": [
    {
     "data": {
      "image/png": "[encoded data removed]",
      "text/plain": [
       "<Figure size 1011.11x1000 with 3 Axes>"
      ]
     },
     "metadata": {},
     "output_type": "display_data"
    }
   ],
   "source": [
    "# Names of original columns\n",
    "healthy_food = [\n",
    "    'What is your weekly food intake frequency of the following food categories: [Fresh fruit]',\n",
    "    'What is your weekly food intake frequency of the following food categories: [Fresh vegetables]',\n",
    "    'What is your weekly food intake frequency of the following food categories: [Seafood ]']\n",
    "\n",
    "# Change name of columns\n",
    "short_names_cols = {\n",
    "    healthy_food[0]: \"Fresh fruit\",\n",
    "    healthy_food[1]: \"Fresh vegetables\",\n",
    "    healthy_food[2]: \"Seafood\"}\n",
    "\n",
    "# Transforming in long format\n",
    "healthy_cols_long = dietary_habits_df.melt(value_vars= healthy_food, var_name='Consumption', value_name='Frecuency')\n",
    "\n",
    "# Replacing long names\n",
    "healthy_cols_long['Consumption'] = healthy_cols_long['Consumption'].map(short_names_cols)\n",
    "\n",
    "# Graph by frecuency\n",
    "sns.catplot(data=healthy_cols_long, y='Frecuency', kind='count', col='Consumption', col_wrap=2)\n",
    "plt.show()"
   ]
  },
  {
   "cell_type": "markdown",
   "id": "5801daa4",
   "metadata": {},
   "source": [
    "##### Frecuency of consumption of Unhealthy beverages"
   ]
  },
  {
   "cell_type": "code",
   "execution_count": 110,
   "id": "b804571d",
   "metadata": {},
   "outputs": [
    {
     "data": {
      "image/png": "[encoded data removed]",
      "text/plain": [
       "<Figure size 1011.11x1000 with 3 Axes>"
      ]
     },
     "metadata": {},
     "output_type": "display_data"
    }
   ],
   "source": [
    "# Names of original columns\n",
    "unhealthy_beverages = [\n",
    "    'How frequently do you consume these beverages [Aerated (Soft) Drinks]',\n",
    "    'How frequently do you consume these beverages [Dairy Beverages (Milk, Milkshakes, Smoothies, Buttermilk, etc)]',\n",
    "    'How frequently do you consume these beverages [Alcoholic Beverages]']\n",
    "\n",
    "# Change name of columns by short names\n",
    "short_name_col_un = {\n",
    "    unhealthy_beverages[0]: \"Aerated (Soft) Drinks\",\n",
    "    unhealthy_beverages[1]: \"Dairy Beverages\",\n",
    "    unhealthy_beverages[2]: \"Alcoholic Beverages\"}\n",
    "\n",
    "# Transform in long format\n",
    "unhealthy_beverages_long = dietary_habits_df.melt(value_vars=unhealthy_beverages, var_name='Consumption', value_name='Frecuency')\n",
    "\n",
    "# Replacing long names\n",
    "unhealthy_beverages_long['Consumption'] = unhealthy_beverages_long['Consumption'].map(short_name_col_un)\n",
    "\n",
    "# Graph\n",
    "sns.catplot(data=unhealthy_beverages_long, y='Frecuency', kind='count', col='Consumption', col_wrap=2)\n",
    "plt.show()"
   ]
  },
  {
   "cell_type": "markdown",
   "id": "908b8f98",
   "metadata": {},
   "source": [
    "##### Frecuency of consumption of Unhealthy foods"
   ]
  },
  {
   "cell_type": "code",
   "execution_count": 114,
   "id": "0ea00253",
   "metadata": {},
   "outputs": [
    {
     "data": {
      "image/png": "[encoded data removed]",
      "text/plain": [
       "<Figure size 1011.11x1000 with 4 Axes>"
      ]
     },
     "metadata": {},
     "output_type": "display_data"
    }
   ],
   "source": [
    "# Names of original columns\n",
    "unhealthy_foods = [\n",
    "    'What is your weekly food intake frequency of the following food categories: [Sweet foods]',\n",
    "    'What is your weekly food intake frequency of the following food categories: [Oily, fried foods]',\n",
    "    'What is your weekly food intake frequency of the following food categories: [Meat]',\n",
    "    'What is your weekly food intake frequency of the following food categories: [Salty foods]']\n",
    "\n",
    "# Change name of columns by short names\n",
    "short_name_food = {\n",
    "    unhealthy_foods[0]: \"Sweet foods\",\n",
    "    unhealthy_foods[1]: \"Oily, Fried foods\",\n",
    "    unhealthy_foods[2]: \"Meat\",\n",
    "    unhealthy_foods[3]: \"Salty foods\"}\n",
    "\n",
    "# Transform in long format\n",
    "unhealthy_foods_long = dietary_habits_df.melt(value_vars=unhealthy_foods, var_name='Consumption', value_name='Weekly Frecuency')\n",
    "\n",
    "# Replacing long names\n",
    "unhealthy_foods_long['Consumption'] = unhealthy_foods_long['Consumption'].map(short_name_food)\n",
    "\n",
    "# Graph\n",
    "sns.catplot(data=unhealthy_foods_long, y='Weekly Frecuency', kind='count', col='Consumption', col_wrap=2)\n",
    "plt.show()"
   ]
  }
 ],
 "metadata": {
  "kernelspec": {
   "display_name": "Python 3",
   "language": "python",
   "name": "python3"
  },
  "language_info": {
   "codemirror_mode": {
    "name": "ipython",
    "version": 3
   },
   "file_extension": ".py",
   "mimetype": "text/x-python",
   "name": "python",
   "nbconvert_exporter": "python",
   "pygments_lexer": "ipython3",
   "version": "3.13.3"
  }
 },
 "nbformat": 4,
 "nbformat_minor": 5
}
